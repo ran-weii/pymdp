{
 "cells": [
  {
   "cell_type": "markdown",
   "metadata": {},
   "source": [
    "# Benchmark REPS on random MDPs"
   ]
  },
  {
   "cell_type": "code",
   "execution_count": 35,
   "metadata": {},
   "outputs": [],
   "source": [
    "import numpy as np\n",
    "import matplotlib.pyplot as plt\n",
    "import seaborn as sns\n",
    "\n",
    "from pymdp.agent import Agent\n",
    "import pymdp.maths as maths\n",
    "import pymdp.utils as utils"
   ]
  },
  {
   "cell_type": "code",
   "execution_count": 39,
   "metadata": {},
   "outputs": [],
   "source": [
    "def value_iteration(P, R, horizon):\n",
    "    \"\"\"Value iteration for computing optimal finite horiozn policy in mdp\n",
    "    \n",
    "    Args:\n",
    "        P (np.array): state transition matrix. size=[state_dim, state_dim, act_dim]\n",
    "        R (np.array): state reward function. size=[state_dim]\n",
    "        horizon (int): planning horizon\n",
    "\n",
    "    Returns:\n",
    "        q (np.array): optimal Q value function. size=[state_dim, act_dim]\n",
    "    \"\"\"\n",
    "    state_dim = P.shape[0]\n",
    "    act_dim = P.shape[2]\n",
    "    R = R.reshape(-1, 1).copy()\n",
    "\n",
    "    # initialize q value\n",
    "    q = np.zeros((horizon + 1, state_dim, act_dim))\n",
    "    q[0] = R\n",
    "    for h in range(horizon):\n",
    "        v_next = q[h].max(-1)\n",
    "        EV = np.einsum(\"jia, j -> ia\", P, v_next)\n",
    "        q[h+1] = R + EV\n",
    "    return q[-1]\n",
    "\n",
    "def pymdp_planner(P, R, horizon, s0, method=\"REPS\", iters=10):\n",
    "    \"\"\"Compute the optimal action for initial state s0 using pymdp agent\n",
    "    \"\"\"\n",
    "    assert method in [\"VANILLA\", \"REPS\"]\n",
    "    state_dim = P.shape[0]\n",
    "    A = np.eye(state_dim) # set observation matrix to diagonal\n",
    "    B = P.copy()\n",
    "    C = maths.softmax(R)\n",
    "\n",
    "    controllable_indices = [0]\n",
    "    agent = Agent(\n",
    "        A=A, \n",
    "        B=B, \n",
    "        C=C,\n",
    "        control_fac_idx=controllable_indices,\n",
    "        policy_len=horizon,\n",
    "        control_algo=method,\n",
    "        control_iters=iters,\n",
    "    )\n",
    "    agent.qs[0] = utils.onehot(s0, state_dim)\n",
    "    q_pi, efe = agent.infer_policies()\n",
    "    a = agent.sample_action()\n",
    "    return a[0], q_pi"
   ]
  },
  {
   "cell_type": "code",
   "execution_count": 41,
   "metadata": {},
   "outputs": [
    {
     "name": "stdout",
     "output_type": "stream",
     "text": [
      "s: 5, a: 3, h: 2, acc: 0.800\n",
      "s: 5, a: 3, h: 4, acc: 0.600\n",
      "s: 5, a: 3, h: 10, acc: 0.800\n",
      "s: 5, a: 10, h: 2, acc: 0.000\n",
      "s: 5, a: 10, h: 4, acc: 0.200\n",
      "s: 5, a: 10, h: 10, acc: 0.000\n",
      "s: 5, a: 20, h: 2, acc: 0.000\n",
      "s: 5, a: 20, h: 4, acc: 0.000\n",
      "s: 5, a: 20, h: 10, acc: 0.000\n",
      "s: 10, a: 3, h: 2, acc: 0.400\n",
      "s: 10, a: 3, h: 4, acc: 0.800\n",
      "s: 10, a: 3, h: 10, acc: 0.200\n",
      "s: 10, a: 10, h: 2, acc: 0.000\n",
      "s: 10, a: 10, h: 4, acc: 0.000\n",
      "s: 10, a: 10, h: 10, acc: 0.000\n",
      "s: 10, a: 20, h: 2, acc: 0.000\n",
      "s: 10, a: 20, h: 4, acc: 0.000\n",
      "s: 10, a: 20, h: 10, acc: 0.200\n",
      "s: 20, a: 3, h: 2, acc: 0.200\n",
      "s: 20, a: 3, h: 4, acc: 0.200\n",
      "s: 20, a: 3, h: 10, acc: 0.400\n",
      "s: 20, a: 10, h: 2, acc: 0.000\n",
      "s: 20, a: 10, h: 4, acc: 0.000\n",
      "s: 20, a: 10, h: 10, acc: 0.000\n",
      "s: 20, a: 20, h: 2, acc: 0.000\n",
      "s: 20, a: 20, h: 4, acc: 0.000\n",
      "s: 20, a: 20, h: 10, acc: 0.000\n"
     ]
    }
   ],
   "source": [
    "# sweep over random mdps of different dimensions\n",
    "np.random.seed(0)\n",
    "\n",
    "state_dims = [5, 10, 20]\n",
    "act_dims = [3, 10, 20]\n",
    "horizons = [2, 4, 10]\n",
    "num_samples = 5 # number of samples to evaluate for each config\n",
    "\n",
    "accuracy = np.zeros((len(horizons), len(state_dims), len(act_dims)))\n",
    "for s, state_dim in enumerate(state_dims):\n",
    "    for a, act_dim in enumerate(act_dims):\n",
    "        for h, horizon in enumerate(horizons):\n",
    "            P = maths.softmax(\n",
    "                3 * np.random.normal(size=(state_dim, state_dim, act_dim))\n",
    "            )\n",
    "            R = 3 * np.random.normal(size=(state_dim))\n",
    "            Q = value_iteration(P, R, horizon)\n",
    "\n",
    "            # sample random initial state\n",
    "            s0s = np.random.choice(\n",
    "                np.arange(min(state_dim, num_samples)), \n",
    "                size=num_samples, \n",
    "                replace=False,\n",
    "            )\n",
    "            \n",
    "            is_correct = np.zeros(len(s0s))\n",
    "            for i, s0 in enumerate(s0s):\n",
    "                a_pred, _ = pymdp_planner(P, R, horizon, s0, method=\"REPS\")\n",
    "                a_true = Q[s0].argmax(-1)\n",
    "                is_correct[i] = a_pred == a_true\n",
    "            \n",
    "            cur_accuracy = is_correct.sum() / len(is_correct)\n",
    "            accuracy[h, s, a] = cur_accuracy\n",
    "\n",
    "            print(f\"s: {state_dim}, a: {act_dim}, h: {horizon}, acc: {cur_accuracy:.3f}\")"
   ]
  },
  {
   "cell_type": "code",
   "execution_count": 55,
   "metadata": {},
   "outputs": [
    {
     "data": {
      "image/png": "[encoded data removed]",
      "text/plain": [
       "<Figure size 900x300 with 3 Axes>"
      ]
     },
     "metadata": {},
     "output_type": "display_data"
    }
   ],
   "source": [
    "fig, ax = plt.subplots(1, len(horizons), figsize=(9, 3))\n",
    "for h, horizon in enumerate(horizons):\n",
    "    sns.heatmap(\n",
    "        accuracy[h], annot=True, cbar=False, fmt=\".2f\", cmap=\"binary\", ax=ax[h]\n",
    "    )\n",
    "    ax[h].invert_yaxis()\n",
    "    ax[h].set_xticklabels(state_dims)\n",
    "    ax[h].set_yticklabels(act_dims)\n",
    "    ax[h].set_xlabel(\"state_dim\")\n",
    "\n",
    "ax[0].set_ylabel(\"act_dim\")\n",
    "\n",
    "plt.suptitle(\"REPS action accuracy\")\n",
    "plt.tight_layout()\n",
    "plt.show()"
   ]
  },
  {
   "cell_type": "code",
   "execution_count": null,
   "metadata": {},
   "outputs": [],
   "source": []
  }
 ],
 "metadata": {
  "kernelspec": {
   "display_name": "pymdp",
   "language": "python",
   "name": "python3"
  },
  "language_info": {
   "codemirror_mode": {
    "name": "ipython",
    "version": 3
   },
   "file_extension": ".py",
   "mimetype": "text/x-python",
   "name": "python",
   "nbconvert_exporter": "python",
   "pygments_lexer": "ipython3",
   "version": "3.11.7"
  }
 },
 "nbformat": 4,
 "nbformat_minor": 2
}
